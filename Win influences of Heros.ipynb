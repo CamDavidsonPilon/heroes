{
 "cells": [
  {
   "cell_type": "code",
   "execution_count": 13,
   "metadata": {
    "collapsed": true
   },
   "outputs": [],
   "source": [
    "from statsmodels.discrete.discrete_model import Logit\n",
    "import pandas as pd \n",
    "from patsy import dmatrices"
   ]
  },
  {
   "cell_type": "code",
   "execution_count": 29,
   "metadata": {
    "collapsed": true
   },
   "outputs": [],
   "source": [
    "raw_data = pd.read_csv('data/ReplayCharacters 2015-05-14 - 2015-05-24.csv')"
   ]
  },
  {
   "cell_type": "code",
   "execution_count": 30,
   "metadata": {
    "collapsed": false
   },
   "outputs": [
    {
     "data": {
      "text/html": [
       "<div>\n",
       "<table border=\"1\" class=\"dataframe\">\n",
       "  <thead>\n",
       "    <tr style=\"text-align: right;\">\n",
       "      <th></th>\n",
       "      <th>ReplayID</th>\n",
       "      <th>Is Auto Select</th>\n",
       "      <th>Hero</th>\n",
       "      <th>Hero Level</th>\n",
       "      <th>Is Winner</th>\n",
       "      <th>MMR Before</th>\n",
       "    </tr>\n",
       "  </thead>\n",
       "  <tbody>\n",
       "    <tr>\n",
       "      <th>0</th>\n",
       "      <td>23915730</td>\n",
       "      <td>False</td>\n",
       "      <td>Rehgar</td>\n",
       "      <td>14</td>\n",
       "      <td>False</td>\n",
       "      <td>3170</td>\n",
       "    </tr>\n",
       "    <tr>\n",
       "      <th>1</th>\n",
       "      <td>23915730</td>\n",
       "      <td>False</td>\n",
       "      <td>Falstad</td>\n",
       "      <td>10</td>\n",
       "      <td>False</td>\n",
       "      <td>3330</td>\n",
       "    </tr>\n",
       "    <tr>\n",
       "      <th>2</th>\n",
       "      <td>23915730</td>\n",
       "      <td>False</td>\n",
       "      <td>Jaina</td>\n",
       "      <td>7</td>\n",
       "      <td>True</td>\n",
       "      <td>3442</td>\n",
       "    </tr>\n",
       "    <tr>\n",
       "      <th>3</th>\n",
       "      <td>23915730</td>\n",
       "      <td>False</td>\n",
       "      <td>Sylvanas</td>\n",
       "      <td>13</td>\n",
       "      <td>False</td>\n",
       "      <td>2666</td>\n",
       "    </tr>\n",
       "    <tr>\n",
       "      <th>4</th>\n",
       "      <td>23915730</td>\n",
       "      <td>False</td>\n",
       "      <td>Zagara</td>\n",
       "      <td>10</td>\n",
       "      <td>True</td>\n",
       "      <td>3198</td>\n",
       "    </tr>\n",
       "  </tbody>\n",
       "</table>\n",
       "</div>"
      ],
      "text/latex": [
       "\\begin{tabular}{lrllrlr}\n",
       "\\toprule\n",
       "{} &  ReplayID & Is Auto Select &      Hero &  Hero Level & Is Winner &  MMR Before \\\\\n",
       "\\midrule\n",
       "0 &  23915730 &          False &    Rehgar &          14 &     False &        3170 \\\\\n",
       "1 &  23915730 &          False &   Falstad &          10 &     False &        3330 \\\\\n",
       "2 &  23915730 &          False &     Jaina &           7 &      True &        3442 \\\\\n",
       "3 &  23915730 &          False &  Sylvanas &          13 &     False &        2666 \\\\\n",
       "4 &  23915730 &          False &    Zagara &          10 &      True &        3198 \\\\\n",
       "\\bottomrule\n",
       "\\end{tabular}\n"
      ],
      "text/plain": [
       "   ReplayID Is Auto Select      Hero  Hero Level Is Winner  MMR Before\n",
       "0  23915730          False    Rehgar          14     False        3170\n",
       "1  23915730          False   Falstad          10     False        3330\n",
       "2  23915730          False     Jaina           7      True        3442\n",
       "3  23915730          False  Sylvanas          13     False        2666\n",
       "4  23915730          False    Zagara          10      True        3198"
      ]
     },
     "execution_count": 30,
     "metadata": {},
     "output_type": "execute_result"
    }
   ],
   "source": [
    "raw_data.head()"
   ]
  },
  {
   "cell_type": "code",
   "execution_count": 31,
   "metadata": {
    "collapsed": false
   },
   "outputs": [],
   "source": [
    "raw_data['present'] = 1\n",
    "\n",
    "did_win = raw_data['Is Winner'] == True\n",
    "winners = raw_data.ix[did_win]\n",
    "losers = raw_data.ix[~did_win]"
   ]
  },
  {
   "cell_type": "code",
   "execution_count": 32,
   "metadata": {
    "collapsed": false
   },
   "outputs": [],
   "source": [
    "winners = winners.set_index(['ReplayID', 'Hero'])['present'].unstack().fillna(0)\n",
    "losers = losers.set_index(['ReplayID', 'Hero'])['present'].unstack().fillna(0)"
   ]
  },
  {
   "cell_type": "code",
   "execution_count": 33,
   "metadata": {
    "collapsed": false
   },
   "outputs": [
    {
     "data": {
      "text/html": [
       "<div>\n",
       "<table border=\"1\" class=\"dataframe\">\n",
       "  <thead>\n",
       "    <tr style=\"text-align: right;\">\n",
       "      <th>Hero</th>\n",
       "      <th>Abathur</th>\n",
       "      <th>Anub'arak</th>\n",
       "      <th>Arthas</th>\n",
       "      <th>Azmodan</th>\n",
       "      <th>Brightwing</th>\n",
       "      <th>Chen</th>\n",
       "      <th>Diablo</th>\n",
       "      <th>E.T.C.</th>\n",
       "      <th>Falstad</th>\n",
       "      <th>Gazlowe</th>\n",
       "      <th>...</th>\n",
       "      <th>Tassadar</th>\n",
       "      <th>The Lost Vikings</th>\n",
       "      <th>Thrall</th>\n",
       "      <th>Tychus</th>\n",
       "      <th>Tyrael</th>\n",
       "      <th>Tyrande</th>\n",
       "      <th>Uther</th>\n",
       "      <th>Valla</th>\n",
       "      <th>Zagara</th>\n",
       "      <th>Zeratul</th>\n",
       "    </tr>\n",
       "    <tr>\n",
       "      <th>ReplayID</th>\n",
       "      <th></th>\n",
       "      <th></th>\n",
       "      <th></th>\n",
       "      <th></th>\n",
       "      <th></th>\n",
       "      <th></th>\n",
       "      <th></th>\n",
       "      <th></th>\n",
       "      <th></th>\n",
       "      <th></th>\n",
       "      <th></th>\n",
       "      <th></th>\n",
       "      <th></th>\n",
       "      <th></th>\n",
       "      <th></th>\n",
       "      <th></th>\n",
       "      <th></th>\n",
       "      <th></th>\n",
       "      <th></th>\n",
       "      <th></th>\n",
       "      <th></th>\n",
       "    </tr>\n",
       "  </thead>\n",
       "  <tbody>\n",
       "    <tr>\n",
       "      <th>20653762</th>\n",
       "      <td>1</td>\n",
       "      <td>0</td>\n",
       "      <td>0</td>\n",
       "      <td>0</td>\n",
       "      <td>0</td>\n",
       "      <td>0</td>\n",
       "      <td>0</td>\n",
       "      <td>0</td>\n",
       "      <td>0</td>\n",
       "      <td>0</td>\n",
       "      <td>...</td>\n",
       "      <td>0</td>\n",
       "      <td>0</td>\n",
       "      <td>0</td>\n",
       "      <td>1</td>\n",
       "      <td>0</td>\n",
       "      <td>0</td>\n",
       "      <td>0</td>\n",
       "      <td>0</td>\n",
       "      <td>0</td>\n",
       "      <td>0</td>\n",
       "    </tr>\n",
       "  </tbody>\n",
       "</table>\n",
       "<p>1 rows × 36 columns</p>\n",
       "</div>"
      ],
      "text/latex": [
       "\\begin{tabular}{lrrrrrrrrrrrrrrrrrrrrrrrrrrrrrrrrrrrr}\n",
       "\\toprule\n",
       "Hero &  Abathur &  Anub'arak &  Arthas &  Azmodan &  Brightwing &  Chen &  Diablo &  E.T.C. &  Falstad &  Gazlowe &  Illidan &  Jaina &  Kael'thas &  Kerrigan &  Li Li &  Malfurion &  Muradin &  Murky &  Nazeebo &  Nova &  Raynor &  Rehgar &  Sgt. Hammer &  Sonya &  Stitches &  Sylvanas &  Tassadar &  The Lost Vikings &  Thrall &  Tychus &  Tyrael &  Tyrande &  Uther &  Valla &  Zagara &  Zeratul \\\\\n",
       "ReplayID &          &            &         &          &             &       &         &         &          &          &          &        &            &           &        &            &          &        &          &       &         &         &              &        &           &           &           &                   &         &         &         &          &        &        &         &          \\\\\n",
       "\\midrule\n",
       "20653762 &        1 &          0 &       0 &        0 &           0 &     0 &       0 &       0 &        0 &        0 &        0 &      0 &          0 &         1 &      1 &          0 &        0 &      1 &        0 &     0 &       0 &       0 &            0 &      0 &         0 &         0 &         0 &                 0 &       0 &       1 &       0 &        0 &      0 &      0 &       0 &        0 \\\\\n",
       "\\bottomrule\n",
       "\\end{tabular}\n"
      ],
      "text/plain": [
       "Hero      Abathur  Anub'arak  Arthas  Azmodan  Brightwing  Chen  Diablo  \\\n",
       "ReplayID                                                                  \n",
       "20653762        1          0       0        0           0     0       0   \n",
       "\n",
       "Hero      E.T.C.  Falstad  Gazlowe   ...     Tassadar  The Lost Vikings  \\\n",
       "ReplayID                             ...                                  \n",
       "20653762       0        0        0   ...            0                 0   \n",
       "\n",
       "Hero      Thrall  Tychus  Tyrael  Tyrande  Uther  Valla  Zagara  Zeratul  \n",
       "ReplayID                                                                  \n",
       "20653762       0       1       0        0      0      0       0        0  \n",
       "\n",
       "[1 rows x 36 columns]"
      ]
     },
     "execution_count": 33,
     "metadata": {},
     "output_type": "execute_result"
    }
   ],
   "source": [
    "winners.head(1)"
   ]
  },
  {
   "cell_type": "code",
   "execution_count": 34,
   "metadata": {
    "collapsed": true
   },
   "outputs": [],
   "source": [
    "winners['outcome'] = 1\n",
    "losers['outcome'] = 0 \n",
    "teams = pd.concat([winners, losers])"
   ]
  },
  {
   "cell_type": "code",
   "execution_count": 35,
   "metadata": {
    "collapsed": false
   },
   "outputs": [
    {
     "data": {
      "text/plain": [
       "(1120496, 37)"
      ]
     },
     "execution_count": 35,
     "metadata": {},
     "output_type": "execute_result"
    }
   ],
   "source": [
    "teams.shape"
   ]
  },
  {
   "cell_type": "code",
   "execution_count": 36,
   "metadata": {
    "collapsed": false
   },
   "outputs": [
    {
     "name": "stdout",
     "output_type": "stream",
     "text": [
      "outcome ~ Q(\"Abathur\") + Q(\"Anub'arak\") + Q(\"Arthas\") + Q(\"Azmodan\") + Q(\"Brightwing\") + Q(\"Chen\") + Q(\"Diablo\") + Q(\"E.T.C.\") + Q(\"Falstad\") + Q(\"Gazlowe\") + Q(\"Illidan\") + Q(\"Jaina\") + Q(\"Kael'thas\") + Q(\"Kerrigan\") + Q(\"Li Li\") + Q(\"Malfurion\") + Q(\"Muradin\") + Q(\"Murky\") + Q(\"Nazeebo\") + Q(\"Nova\") + Q(\"Raynor\") + Q(\"Rehgar\") + Q(\"Sgt. Hammer\") + Q(\"Sonya\") + Q(\"Stitches\") + Q(\"Sylvanas\") + Q(\"Tassadar\") + Q(\"The Lost Vikings\") + Q(\"Thrall\") + Q(\"Tychus\") + Q(\"Tyrael\") + Q(\"Tyrande\") + Q(\"Uther\") + Q(\"Valla\") + Q(\"Zagara\") + Q(\"Zeratul\") -1 \n"
     ]
    },
    {
     "name": "stderr",
     "output_type": "stream",
     "text": [
      "/Users/camerondavidson-pilon/.virtualenvs/data/lib/python2.7/site-packages/IPython/kernel/__main__.py:1: FutureWarning: using '-' to provide set differences with Indexes is deprecated, use .difference()\n",
      "  if __name__ == '__main__':\n"
     ]
    }
   ],
   "source": [
    "formula =  \"outcome ~ \" +  ' + '.join(map(lambda s: 'Q(\"%s\")'%s.strip(), winners.columns - ['outcome'])) + \" -1 \"\n",
    "print formula"
   ]
  },
  {
   "cell_type": "code",
   "execution_count": 37,
   "metadata": {
    "collapsed": false
   },
   "outputs": [],
   "source": [
    "y, X = dmatrices(formula, teams, return_type='dataframe')"
   ]
  },
  {
   "cell_type": "code",
   "execution_count": 39,
   "metadata": {
    "collapsed": false
   },
   "outputs": [
    {
     "name": "stdout",
     "output_type": "stream",
     "text": [
      "Optimization terminated successfully.\n",
      "         Current function value: 0.683611\n",
      "         Iterations 4\n",
      "                            Results: Logit\n",
      "======================================================================\n",
      "Model:               Logit             Pseudo R-squared:  0.014       \n",
      "Dependent Variable:  outcome           AIC:               1532038.8123\n",
      "Date:                2016-01-10 20:39  BIC:               1532468.2664\n",
      "No. Observations:    1120496           Log-Likelihood:    -7.6598e+05 \n",
      "Df Model:            35                LL-Null:           -7.7667e+05 \n",
      "Df Residuals:        1120460           LLR p-value:       0.0000      \n",
      "Converged:           1.0000            Scale:             1.0000      \n",
      "No. Iterations:      4.0000                                           \n",
      "----------------------------------------------------------------------\n",
      "                       Coef.  Std.Err.    z     P>|z|   [0.025  0.975]\n",
      "----------------------------------------------------------------------\n",
      "Q(\"Abathur\")          -0.2089   0.0066 -31.5056 0.0000 -0.2219 -0.1959\n",
      "Q(\"Anub'arak\")         0.2695   0.0048  56.0010 0.0000  0.2600  0.2789\n",
      "Q(\"Arthas\")           -0.1053   0.0088 -12.0008 0.0000 -0.1225 -0.0881\n",
      "Q(\"Azmodan\")           0.1284   0.0082  15.7505 0.0000  0.1124  0.1444\n",
      "Q(\"Brightwing\")        0.1581   0.0048  33.1691 0.0000  0.1488  0.1674\n",
      "Q(\"Chen\")             -0.0958   0.0123  -7.8071 0.0000 -0.1198 -0.0717\n",
      "Q(\"Diablo\")           -0.2062   0.0062 -33.1682 0.0000 -0.2184 -0.1940\n",
      "Q(\"E.T.C.\")           -0.1780   0.0049 -36.5220 0.0000 -0.1876 -0.1685\n",
      "Q(\"Falstad\")          -0.0094   0.0072  -1.3179 0.1875 -0.0235  0.0046\n",
      "Q(\"Gazlowe\")           0.0291   0.0075   3.8914 0.0001  0.0145  0.0438\n",
      "Q(\"Illidan\")           0.0027   0.0048   0.5658 0.5715 -0.0067  0.0121\n",
      "Q(\"Jaina\")             0.1181   0.0039  30.0013 0.0000  0.1103  0.1258\n",
      "Q(\"Kael'thas\")         0.0582   0.0041  14.2854 0.0000  0.0502  0.0662\n",
      "Q(\"Kerrigan\")         -0.1366   0.0059 -23.1258 0.0000 -0.1482 -0.1251\n",
      "Q(\"Li Li\")             0.1529   0.0047  32.7087 0.0000  0.1438  0.1621\n",
      "Q(\"Malfurion\")        -0.1319   0.0063 -20.9361 0.0000 -0.1443 -0.1196\n",
      "Q(\"Muradin\")          -0.1240   0.0051 -24.2915 0.0000 -0.1340 -0.1140\n",
      "Q(\"Murky\")             0.2152   0.0091  23.6158 0.0000  0.1974  0.2331\n",
      "Q(\"Nazeebo\")           0.1186   0.0054  21.8567 0.0000  0.1080  0.1293\n",
      "Q(\"Nova\")              0.0429   0.0048   9.0260 0.0000  0.0336  0.0522\n",
      "Q(\"Raynor\")           -0.0973   0.0049 -19.9204 0.0000 -0.1069 -0.0877\n",
      "Q(\"Rehgar\")           -0.0184   0.0064  -2.8529 0.0043 -0.0310 -0.0057\n",
      "Q(\"Sgt. Hammer\")      -0.1526   0.0055 -27.7344 0.0000 -0.1634 -0.1418\n",
      "Q(\"Sonya\")            -0.2421   0.0055 -44.2605 0.0000 -0.2528 -0.2314\n",
      "Q(\"Stitches\")         -0.3572   0.0083 -42.9478 0.0000 -0.3735 -0.3409\n",
      "Q(\"Sylvanas\")          0.0851   0.0044  19.3391 0.0000  0.0765  0.0938\n",
      "Q(\"Tassadar\")         -0.2302   0.0064 -36.1366 0.0000 -0.2427 -0.2178\n",
      "Q(\"The Lost Vikings\")  0.1530   0.0068  22.4048 0.0000  0.1397  0.1664\n",
      "Q(\"Thrall\")            0.0742   0.0053  13.9398 0.0000  0.0638  0.0846\n",
      "Q(\"Tychus\")           -0.1196   0.0065 -18.4373 0.0000 -0.1323 -0.1069\n",
      "Q(\"Tyrael\")            0.0621   0.0072   8.6215 0.0000  0.0480  0.0763\n",
      "Q(\"Tyrande\")          -0.0648   0.0071  -9.0938 0.0000 -0.0788 -0.0508\n",
      "Q(\"Uther\")             0.0100   0.0054   1.8459 0.0649 -0.0006  0.0207\n",
      "Q(\"Valla\")            -0.0194   0.0039  -4.9202 0.0000 -0.0271 -0.0117\n",
      "Q(\"Zagara\")            0.0422   0.0059   7.1292 0.0000  0.0306  0.0539\n",
      "Q(\"Zeratul\")          -0.0121   0.0060  -2.0247 0.0429 -0.0238 -0.0004\n",
      "======================================================================\n",
      "\n"
     ]
    }
   ],
   "source": [
    "lg = Logit(y, X)\n",
    "model = lg.fit()\n"
   ]
  },
  {
   "cell_type": "code",
   "execution_count": 44,
   "metadata": {
    "collapsed": true
   },
   "outputs": [],
   "source": [
    "from sklearn.linear_model import LogisticRegression"
   ]
  },
  {
   "cell_type": "code",
   "execution_count": 53,
   "metadata": {
    "collapsed": false
   },
   "outputs": [
    {
     "name": "stderr",
     "output_type": "stream",
     "text": [
      "/Users/camerondavidson-pilon/.virtualenvs/data/lib/python2.7/site-packages/sklearn/utils/validation.py:449: DataConversionWarning: A column-vector y was passed when a 1d array was expected. Please change the shape of y to (n_samples, ), for example using ravel().\n",
      "  y = column_or_1d(y, warn=True)\n"
     ]
    },
    {
     "data": {
      "text/plain": [
       "LogisticRegression(C=1.0, class_weight=None, dual=False, fit_intercept=True,\n",
       "          intercept_scaling=1, max_iter=100, multi_class='ovr',\n",
       "          penalty='l2', random_state=None, solver='liblinear', tol=0.0001,\n",
       "          verbose=0)"
      ]
     },
     "execution_count": 53,
     "metadata": {},
     "output_type": "execute_result"
    }
   ],
   "source": [
    "lg = LogisticRegression()\n",
    "lg.fit(X,y)"
   ]
  },
  {
   "cell_type": "code",
   "execution_count": 54,
   "metadata": {
    "collapsed": false
   },
   "outputs": [
    {
     "data": {
      "text/plain": [
       "array([[-0.196 ,  0.2824, -0.0923,  0.1414,  0.171 , -0.0828, -0.1933,\n",
       "        -0.1651,  0.0035,  0.0421,  0.0157,  0.131 ,  0.0711, -0.1237,\n",
       "         0.1658, -0.119 , -0.1111,  0.2281,  0.1315,  0.0559, -0.0843,\n",
       "        -0.0054, -0.1397, -0.2291, -0.3443,  0.0981, -0.2173,  0.166 ,\n",
       "         0.0871, -0.1066,  0.0751, -0.0519,  0.023 , -0.0065,  0.0552,\n",
       "         0.0008]])"
      ]
     },
     "execution_count": 54,
     "metadata": {},
     "output_type": "execute_result"
    }
   ],
   "source": [
    "lg.coef_"
   ]
  },
  {
   "cell_type": "code",
   "execution_count": 57,
   "metadata": {
    "collapsed": true
   },
   "outputs": [],
   "source": [
    "from sklearn.cross_validation import cross_val_score"
   ]
  },
  {
   "cell_type": "code",
   "execution_count": 67,
   "metadata": {
    "collapsed": false
   },
   "outputs": [
    {
     "data": {
      "text/plain": [
       "array([ 0.5521,  0.5563,  0.5574,  0.5608,  0.5581,  0.5545,  0.5539,\n",
       "        0.551 ,  0.5545,  0.5532])"
      ]
     },
     "execution_count": 67,
     "metadata": {},
     "output_type": "execute_result"
    }
   ],
   "source": [
    "cross_val_score(lg, X.values, y.values[:,0], cv=10)"
   ]
  },
  {
   "cell_type": "code",
   "execution_count": null,
   "metadata": {
    "collapsed": false
   },
   "outputs": [],
   "source": []
  },
  {
   "cell_type": "code",
   "execution_count": null,
   "metadata": {
    "collapsed": true
   },
   "outputs": [],
   "source": []
  }
 ],
 "metadata": {
  "kernelspec": {
   "display_name": "Python 2",
   "language": "python",
   "name": "python2"
  },
  "language_info": {
   "codemirror_mode": {
    "name": "ipython",
    "version": 2
   },
   "file_extension": ".py",
   "mimetype": "text/x-python",
   "name": "python",
   "nbconvert_exporter": "python",
   "pygments_lexer": "ipython2",
   "version": "2.7.9"
  }
 },
 "nbformat": 4,
 "nbformat_minor": 0
}
